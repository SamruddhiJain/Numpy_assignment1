{
 "cells": [
  {
   "cell_type": "code",
   "execution_count": 5,
   "id": "3982d319",
   "metadata": {},
   "outputs": [],
   "source": [
    "### Assingment 1\n",
    "\n",
    "import numpy as np\n"
   ]
  },
  {
   "cell_type": "code",
   "execution_count": 3,
   "id": "a143514e",
   "metadata": {},
   "outputs": [],
   "source": [
    "a = np.zeros(10,dtype='int32')"
   ]
  },
  {
   "cell_type": "code",
   "execution_count": 4,
   "id": "26355b6b",
   "metadata": {},
   "outputs": [
    {
     "name": "stdout",
     "output_type": "stream",
     "text": [
      "[0 0 0 0 1 0 0 0 0 0]\n"
     ]
    }
   ],
   "source": [
    "a[4]=1\n",
    "print(a)"
   ]
  },
  {
   "cell_type": "code",
   "execution_count": 10,
   "id": "80266cdb",
   "metadata": {},
   "outputs": [
    {
     "name": "stdout",
     "output_type": "stream",
     "text": [
      "[27 46 36 17 34 19 11 32 29 10]\n"
     ]
    }
   ],
   "source": [
    "##Assginment 2\n",
    "\n",
    "\n",
    "import numpy as np\n",
    "a=np.random.randint(10,49,size=(10))\n",
    "print(a)"
   ]
  },
  {
   "cell_type": "code",
   "execution_count": 12,
   "id": "7a734d4b",
   "metadata": {},
   "outputs": [
    {
     "name": "stdout",
     "output_type": "stream",
     "text": [
      "[[3 1 4]\n",
      " [2 3 3]\n",
      " [0 6 3]]\n"
     ]
    }
   ],
   "source": [
    "## Assignment 3\n",
    "\n",
    "import numpy as np\n",
    "a=np.random.randint(0,8,size=(3,3))\n",
    "print(a)"
   ]
  },
  {
   "cell_type": "code",
   "execution_count": 14,
   "id": "e507cdaf",
   "metadata": {},
   "outputs": [
    {
     "name": "stdout",
     "output_type": "stream",
     "text": [
      "0\n",
      "1\n",
      "4\n"
     ]
    }
   ],
   "source": [
    "## Assignment 4\n",
    "\n",
    "\n",
    "import numpy as np\n",
    "a=np.array([1,2,0,0,4,0])\n",
    "for i in range(6):\n",
    "    if a[i]!=0:\n",
    "        \n",
    "        print(i)"
   ]
  },
  {
   "cell_type": "code",
   "execution_count": 18,
   "id": "9cbba820",
   "metadata": {},
   "outputs": [
    {
     "name": "stdout",
     "output_type": "stream",
     "text": [
      "[[0.2981802  0.94687907 0.28124087 0.3929879  0.45896659 0.90155763\n",
      "  0.88675619 0.56659832 0.53545418 0.29508923]\n",
      " [0.82277578 0.40813089 0.77155037 0.59012047 0.47307779 0.15361082\n",
      "  0.42874949 0.57347912 0.93379917 0.69876447]\n",
      " [0.94502818 0.91807134 0.65617527 0.00391355 0.85465089 0.00347963\n",
      "  0.02952188 0.10248583 0.4530539  0.76114849]\n",
      " [0.7868757  0.98959404 0.38892504 0.28321061 0.92663174 0.44249777\n",
      "  0.57609247 0.74643686 0.96923317 0.48486085]\n",
      " [0.41357136 0.85388098 0.38637524 0.2804754  0.13037539 0.58608033\n",
      "  0.0742769  0.29329916 0.66547265 0.76667761]\n",
      " [0.31607232 0.26921319 0.10262138 0.01429983 0.68020251 0.40995731\n",
      "  0.46551592 0.18411233 0.63810617 0.56211504]\n",
      " [0.00162918 0.78928487 0.99810057 0.08873319 0.0853023  0.43648723\n",
      "  0.68556713 0.6891503  0.69299655 0.76320607]\n",
      " [0.08888324 0.98798676 0.89509918 0.13691633 0.03738296 0.86831382\n",
      "  0.54871301 0.1355964  0.17114993 0.94682317]\n",
      " [0.82881391 0.7878014  0.30090907 0.60065702 0.18050992 0.43955527\n",
      "  0.48848713 0.29976863 0.06085983 0.28508393]\n",
      " [0.59660904 0.81816245 0.76670313 0.60639772 0.9430227  0.28238211\n",
      "  0.82351877 0.61629444 0.18206149 0.81075575]]\n"
     ]
    }
   ],
   "source": [
    "##Assignment 5\n",
    "\n",
    "import numpy as np\n",
    "a=np.random.rand(10,10)\n",
    "print(a)\n"
   ]
  },
  {
   "cell_type": "code",
   "execution_count": 19,
   "id": "906de41f",
   "metadata": {},
   "outputs": [
    {
     "data": {
      "text/plain": [
       "0.001629180780809869"
      ]
     },
     "execution_count": 19,
     "metadata": {},
     "output_type": "execute_result"
    }
   ],
   "source": [
    "np.min(a)"
   ]
  },
  {
   "cell_type": "code",
   "execution_count": 20,
   "id": "41c10c62",
   "metadata": {},
   "outputs": [
    {
     "data": {
      "text/plain": [
       "0.9981005679204507"
      ]
     },
     "execution_count": 20,
     "metadata": {},
     "output_type": "execute_result"
    }
   ],
   "source": [
    "np.max(a)"
   ]
  },
  {
   "cell_type": "code",
   "execution_count": 21,
   "id": "55aa13d8",
   "metadata": {},
   "outputs": [
    {
     "name": "stdout",
     "output_type": "stream",
     "text": [
      "[98 79 23 60 55 47  8 58 74 44 55 50 58 38 40 27 38 10 51 71 80 52  8 90\n",
      " 14 73 14 48 75 49]\n"
     ]
    }
   ],
   "source": [
    "##Assignment 6\n",
    "\n",
    "\n",
    "import numpy as np\n",
    "a=np.random.randint(0,100,size=(30))\n",
    "print(a)\n"
   ]
  },
  {
   "cell_type": "code",
   "execution_count": 22,
   "id": "0ea771bf",
   "metadata": {},
   "outputs": [
    {
     "data": {
      "text/plain": [
       "49.56666666666667"
      ]
     },
     "execution_count": 22,
     "metadata": {},
     "output_type": "execute_result"
    }
   ],
   "source": [
    "np.mean(a)"
   ]
  },
  {
   "cell_type": "code",
   "execution_count": null,
   "id": "0e963a16",
   "metadata": {},
   "outputs": [],
   "source": []
  }
 ],
 "metadata": {
  "kernelspec": {
   "display_name": "Python 3 (ipykernel)",
   "language": "python",
   "name": "python3"
  },
  "language_info": {
   "codemirror_mode": {
    "name": "ipython",
    "version": 3
   },
   "file_extension": ".py",
   "mimetype": "text/x-python",
   "name": "python",
   "nbconvert_exporter": "python",
   "pygments_lexer": "ipython3",
   "version": "3.10.13"
  }
 },
 "nbformat": 4,
 "nbformat_minor": 5
}
